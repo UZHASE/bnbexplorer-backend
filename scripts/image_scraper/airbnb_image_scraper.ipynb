{
  "nbformat": 4,
  "nbformat_minor": 0,
  "metadata": {
    "colab": {
      "name": "airbnb_image_scraper.ipynb",
      "provenance": [],
      "collapsed_sections": [],
      "toc_visible": true
    },
    "kernelspec": {
      "name": "python3",
      "display_name": "Python 3"
    },
    "language_info": {
      "name": "python"
    }
  },
  "cells": [
    {
      "cell_type": "markdown",
      "metadata": {
        "id": "VOQvbn00l_X4"
      },
      "source": [
        "# AirBnB Scrape Images with Selenium Web Driver"
      ]
    },
    {
      "cell_type": "markdown",
      "metadata": {
        "id": "PHb_qSCSI21p"
      },
      "source": [
        "Prerequisites:\n",
        "\n",
        "\n",
        "*   CSV file (`listings.csv`) containing all AirBnB Listing IDs to scrape\n",
        "\n"
      ]
    },
    {
      "cell_type": "code",
      "metadata": {
        "id": "vDjuORA_mIv3"
      },
      "source": [
        "!pip install kora -q\n",
        "\n",
        "import time\n",
        "import requests\n",
        "import pandas as pd\n",
        "from bs4 import BeautifulSoup\n",
        "import bs4 as soup\n",
        "from kora.selenium import wd\n",
        "import csv"
      ],
      "execution_count": null,
      "outputs": []
    },
    {
      "cell_type": "markdown",
      "metadata": {
        "id": "F2oqUbXAK21_"
      },
      "source": [
        "# Preparation"
      ]
    },
    {
      "cell_type": "markdown",
      "metadata": {
        "id": "j0UnBx9kJSXn"
      },
      "source": [
        "Load Listing IDs into array"
      ]
    },
    {
      "cell_type": "code",
      "metadata": {
        "id": "wb0TsRJBgH_2"
      },
      "source": [
        "with open('listings.csv', newline='') as f:\n",
        "    id_list = []\n",
        "    for row in csv.reader(f, delimiter=';'):\n",
        "        (id_list.append(row))"
      ],
      "execution_count": null,
      "outputs": []
    },
    {
      "cell_type": "markdown",
      "metadata": {
        "id": "rtPV-YruK5F7"
      },
      "source": [
        "# Image Scraping"
      ]
    },
    {
      "cell_type": "markdown",
      "metadata": {
        "id": "7GnGjr4OJld-"
      },
      "source": [
        "(**NOTE:** This will take several hours!)"
      ]
    },
    {
      "cell_type": "code",
      "metadata": {
        "id": "37CCx4EOgfOb"
      },
      "source": [
        "# set implicit wait for element\n",
        "wd.implicitly_wait(3)\n",
        "# AirBnB base url to scrape images from\n",
        "airbnb_base_url = \"https://www.airbnb.co.in/rooms/\"\n",
        "\n",
        "# image scraping\n",
        "airbnb_images = dict({})\n",
        "\n",
        "for id in id_list:\n",
        "  url = airbnb_base_url + str(id)\n",
        "  wd.get(url)\n",
        "  # we look for the \"source\" tag which contains the images\n",
        "  sources = wd.find_elements_by_css_selector(\"source\")\n",
        "\n",
        "  image_urls = []\n",
        "  if sources:\n",
        "    for source in sources:\n",
        "      # get image urls\n",
        "      try:\n",
        "        img_url = source.get_attribute('srcset')\n",
        "      except:\n",
        "        break\n",
        "      if img_url != None:\n",
        "        img_url = img_url[:76]\n",
        "        image_urls.append(img_url)\n",
        "      # remove duplicates\n",
        "      image_urls = list(set(image_urls))\n",
        "    # add to dict\n",
        "    airbnb_images[id] = image_urls"
      ],
      "execution_count": 9,
      "outputs": []
    },
    {
      "cell_type": "markdown",
      "metadata": {
        "id": "6T9A-KhsU29o"
      },
      "source": [
        "Save to CSV file"
      ]
    },
    {
      "cell_type": "code",
      "metadata": {
        "id": "KKzH9_YUkSOe"
      },
      "source": [
        "with open('output.csv', 'w') as f:\n",
        "    writer = csv.writer(f)\n",
        "    for (key, val) in airbnb_images.items():\n",
        "        writer.writerow([key, \",\".join(val)])"
      ],
      "execution_count": 11,
      "outputs": []
    },
    {
      "cell_type": "markdown",
      "metadata": {
        "id": "2hvreo1JeaTb"
      },
      "source": [
        "# Cleanup"
      ]
    },
    {
      "cell_type": "markdown",
      "metadata": {
        "id": "yf-9vWa5Iieq"
      },
      "source": [
        "Load into dataframe and inspect"
      ]
    },
    {
      "cell_type": "code",
      "metadata": {
        "id": "zkKAtlaCefMI"
      },
      "source": [
        "df_img = pd.read_csv(\"output.csv\") "
      ],
      "execution_count": null,
      "outputs": []
    },
    {
      "cell_type": "code",
      "metadata": {
        "id": "88LgM93df1YX"
      },
      "source": [
        "df_img.describe()"
      ],
      "execution_count": null,
      "outputs": []
    },
    {
      "cell_type": "code",
      "metadata": {
        "id": "xsxqtpUJgFD_"
      },
      "source": [
        "df_img.head()"
      ],
      "execution_count": null,
      "outputs": []
    },
    {
      "cell_type": "markdown",
      "metadata": {
        "id": "jp4tD0O_LK2i"
      },
      "source": [
        "removing quotes and splitting links by spacing"
      ]
    },
    {
      "cell_type": "code",
      "metadata": {
        "id": "LL34jAqRhoq8"
      },
      "source": [
        "df_img['id'] = df_img['id'].str.replace(r',https', ' https')\n",
        "df_img['id'] = df_img['id'].str.replace(r'\"', '')"
      ],
      "execution_count": null,
      "outputs": []
    },
    {
      "cell_type": "code",
      "metadata": {
        "id": "9fF-J9HKh4kD"
      },
      "source": [
        "df_img.head()"
      ],
      "execution_count": null,
      "outputs": []
    },
    {
      "cell_type": "markdown",
      "metadata": {
        "id": "tHJsBdFcLWGa"
      },
      "source": [
        "row correction (before it was not in an appropriate CSV format)"
      ]
    },
    {
      "cell_type": "code",
      "metadata": {
        "id": "n0s0vOUZjCNa"
      },
      "source": [
        "df_img[['id', 'images']] = df_img['id'].str.split(pat=',', expand=True)"
      ],
      "execution_count": null,
      "outputs": []
    },
    {
      "cell_type": "code",
      "metadata": {
        "id": "bY9HhfJ0j3DD"
      },
      "source": [
        "df_img.head()"
      ],
      "execution_count": null,
      "outputs": []
    },
    {
      "cell_type": "markdown",
      "metadata": {
        "id": "I8L3dN47Lpw7"
      },
      "source": [
        "output CSV file"
      ]
    },
    {
      "cell_type": "code",
      "metadata": {
        "id": "UlgMqBZ5j58x"
      },
      "source": [
        "df_img.to_csv('nycairbnb_imgs.csv', index=False)"
      ],
      "execution_count": null,
      "outputs": []
    }
  ]
}